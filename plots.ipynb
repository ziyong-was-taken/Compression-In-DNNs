{
 "cells": [
  {
   "cell_type": "code",
   "execution_count": null,
   "metadata": {},
   "outputs": [],
   "source": [
    "import pandas as pd\n",
    "import matplotlib.pyplot as plt\n",
    "from matplotlib.lines import Line2D"
   ]
  },
  {
   "cell_type": "code",
   "execution_count": null,
   "metadata": {},
   "outputs": [],
   "source": [
    "# set version\n",
    "version = \"test\"\n",
    "\n",
    "# load metrics\n",
    "metrics = pd.read_csv(f\"lightning_logs/{version}/metrics.csv\")\n",
    "\n",
    "# merge entries on the same epoch\n",
    "metrics = metrics.groupby(\"epoch\").first()\n",
    "metrics[\"dib_0_train\"] = metrics[\"dib_0_train\"].ffill()\n",
    "metrics[\"dib_0_val\"] = metrics[\"dib_0_val\"].ffill()\n",
    "display(metrics)\n",
    "\n",
    "# initial legend elements\n",
    "base_handles = [\n",
    "    Line2D([], [], color=\"gray\"),\n",
    "    Line2D([], [], color=\"gray\", linestyle=\"--\"),\n",
    "]"
   ]
  },
  {
   "cell_type": "code",
   "execution_count": null,
   "metadata": {},
   "outputs": [],
   "source": [
    "# plot train and val loss and accuracy\n",
    "train_cols = metrics.filter(like=\"train_\").columns\n",
    "val_cols = metrics.filter(like=\"val_\").columns\n",
    "plt.plot(metrics.index, metrics[train_cols])\n",
    "plt.gca().set_prop_cycle(None)\n",
    "plt.plot(metrics.index, metrics[val_cols], linestyle=\"--\")\n",
    "# plt.ylim(0, 1)\n",
    "plt.xlabel(\"Epoch\")\n",
    "plt.ylabel(\"Cross-Entropy Loss & Accuracy\")\n",
    "plt.legend(\n",
    "    base_handles + plt.gca().get_lines(), [\"Train\", \"Validation\", \"Accuracy\", \"Loss\"]\n",
    ")\n",
    "plt.show()"
   ]
  },
  {
   "cell_type": "code",
   "execution_count": null,
   "metadata": {},
   "outputs": [],
   "source": [
    "# plot NC1\n",
    "nc_cols = metrics.filter(like=\"nc_\").columns\n",
    "train_nc_cols = nc_cols[nc_cols.str.contains(\"train\")]\n",
    "val_nc_cols = nc_cols[nc_cols.str.contains(\"val\")]\n",
    "plt.plot(metrics.index, metrics[train_nc_cols])\n",
    "plt.gca().set_prop_cycle(None)\n",
    "plt.plot(metrics.index, metrics[val_nc_cols], linestyle=\"--\")\n",
    "plt.legend(\n",
    "    base_handles + plt.gca().get_lines(),\n",
    "    [\"Train\", \"Validation\"] + [rf\"$l = {layer}$\" for layer in (1, 2, 3, \"L-1\")],\n",
    ")\n",
    "plt.xlabel(\"Epoch\")\n",
    "plt.ylabel(r\"$\\operatorname{tr}(Σ_W^l(Σ_B^l)⁺)$\")\n",
    "plt.show()"
   ]
  },
  {
   "cell_type": "code",
   "execution_count": null,
   "metadata": {},
   "outputs": [],
   "source": [
    "# plot DIB\n",
    "diff = metrics[\"dib_0_val\"] - metrics[\"dib_0_train\"]\n",
    "num_epochs = metrics.shape[0]\n",
    "for i, set in enumerate((\"train\", \"val\")):\n",
    "    dib_cols = metrics.filter(regex=f\"dib_[0-9]_{set}\").columns\n",
    "    values = metrics[dib_cols]\n",
    "    if set == \"train\":\n",
    "        values = values.add(diff, axis=0)\n",
    "\n",
    "    plt.plot(metrics.index, values, linestyle=[\"-\", \"--\"][i])\n",
    "\n",
    "    if set == \"train\":\n",
    "        plt.gca().set_prop_cycle(None)\n",
    "        handles = base_handles + plt.gca().get_lines()\n",
    "\n",
    "plt.xlabel(\"Epoch\")\n",
    "plt.ylabel(\"DIB Cross-Entropy Training Loss\")\n",
    "plt.legend(\n",
    "    handles, [\"Train\", \"Validation\"] + [rf\"$n_{{block}} = {layer}$\" for layer in (0, 1, 2, 3)]\n",
    ")\n",
    "plt.show()"
   ]
  },
  {
   "cell_type": "code",
   "execution_count": null,
   "metadata": {},
   "outputs": [],
   "source": [
    "# IP analysis\n",
    "for name in (\"train\", \"val\"):\n",
    "    for dib in epoch_metrics.filter(regex=f\"dib_[0-9]_{name}\").columns:\n",
    "        x = -epoch_metrics[dib]\n",
    "        y = -epoch_metrics[\"train_loss\"]\n",
    "        plt.scatter(x, y, cmap=\"viridis\", c=epoch_metrics[\"epoch\"])\n",
    "        plt.plot(x, y, color=\"gray\", linewidth=0.5)\n",
    "    plt.xlabel(r\"$I_{\\mathcal{V}}[Z \\to \\operatorname{Dec}(X,\\mathcal{Y})]$\")\n",
    "    plt.ylabel(r\"$I_{\\mathcal{V}}[Z \\to Y]$\")\n",
    "    plt.colorbar(label=\"Epochs\")\n",
    "    plt.title(f\"{name.capitalize()} Set\")\n",
    "    plt.show()"
   ]
  }
 ],
 "metadata": {
  "kernelspec": {
   "display_name": "Python 3",
   "language": "python",
   "name": "python3"
  },
  "language_info": {
   "codemirror_mode": {
    "name": "ipython",
    "version": 3
   },
   "file_extension": ".py",
   "mimetype": "text/x-python",
   "name": "python",
   "nbconvert_exporter": "python",
   "pygments_lexer": "ipython3",
   "version": "3.13.2"
  }
 },
 "nbformat": 4,
 "nbformat_minor": 2
}
