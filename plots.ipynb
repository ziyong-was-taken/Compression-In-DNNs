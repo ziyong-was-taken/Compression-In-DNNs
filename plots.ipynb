{
 "cells": [
  {
   "cell_type": "code",
   "execution_count": null,
   "metadata": {},
   "outputs": [],
   "source": [
    "import pandas as pd\n",
    "import matplotlib.pyplot as plt"
   ]
  },
  {
   "cell_type": "code",
   "execution_count": null,
   "metadata": {},
   "outputs": [],
   "source": [
    "# set version\n",
    "version = 2\n",
    "full = False\n",
    "\n",
    "# load metrics\n",
    "if full:\n",
    "    metrics = pd.read_csv(\"lightning_logs/nc_128/metrics.csv\")\n",
    "else:\n",
    "    metrics = pd.read_csv(f\"lightning_logs/version_{version}/metrics.csv\")\n",
    "\n",
    "# merge entries on the same step\n",
    "metrics = metrics.groupby(\"step\").first()\n",
    "display(metrics)\n",
    "\n",
    "# drop nan values\n",
    "no_nan = metrics.dropna()"
   ]
  },
  {
   "cell_type": "code",
   "execution_count": null,
   "metadata": {},
   "outputs": [],
   "source": [
    "# plot NC1\n",
    "nc_cols = no_nan.filter(like=\"nc_\").columns\n",
    "no_nan.plot(x=\"epoch\", y=nc_cols)\n",
    "plt.show()"
   ]
  },
  {
   "cell_type": "code",
   "execution_count": null,
   "metadata": {},
   "outputs": [],
   "source": [
    "# plot train loss\n",
    "train_cols = metrics.filter(like=\"train_\").columns\n",
    "metrics.plot(y=train_cols, use_index=True)\n",
    "plt.ylim(0,1)\n",
    "plt.xlabel(\"Step\")\n",
    "plt.ylabel(\"Cross-Entropy Loss & Accuracy\")\n",
    "plt.legend()\n",
    "plt.show()\n",
    "\n",
    "metrics.plot(y=\"lr\", use_index=True)\n",
    "plt.xlabel(\"Step\")\n",
    "plt.ylabel(\"Learning Rate\")\n",
    "plt.show()"
   ]
  },
  {
   "cell_type": "code",
   "execution_count": null,
   "metadata": {},
   "outputs": [],
   "source": [
    "# extract DIB0\n",
    "dib_0 = no_nan[\"dib_0\"].iloc[0]\n",
    "no_dib_0 = metrics.drop(columns=\"dib_0\").dropna()\n",
    "\n",
    "# plot DIB\n",
    "dib_cols = no_dib_0.filter(like=\"dib_\").columns\n",
    "no_dib_0.plot(x=\"epoch\", y=dib_cols)\n",
    "plt.hlines(dib_0, 0, metrics.shape[0], color=\"black\", label=\"dib_0\")\n",
    "# plt.xlim(0,150)\n",
    "plt.legend()\n",
    "plt.xlabel(\"Epoch\")\n",
    "plt.ylabel(\"Cross-Entropy Loss\")\n",
    "plt.show()"
   ]
  },
  {
   "cell_type": "code",
   "execution_count": null,
   "metadata": {},
   "outputs": [],
   "source": [
    "# IP analysis\n",
    "for dib in dib_cols:\n",
    "    plt.scatter(metrics[dib], metrics[\"train_loss\"], cmap=\"viridis\", c=metrics[\"epoch\"])\n",
    "    plt.plot(metrics[dib], metrics[\"train_loss\"], color=\"gray\", linewidth=0.5)\n",
    "plt.xlabel(r\"$I_{\\mathcal{V}}[Z \\to \\operatorname{Dec}(X,\\mathcal{Y})]$\")\n",
    "plt.ylabel(r\"$I_{\\mathcal{V}}[Z \\to Y]$\")\n",
    "plt.colorbar(label=\"Epochs\")\n",
    "plt.show()"
   ]
  }
 ],
 "metadata": {
  "kernelspec": {
   "display_name": "Python 3",
   "language": "python",
   "name": "python3"
  },
  "language_info": {
   "codemirror_mode": {
    "name": "ipython",
    "version": 3
   },
   "file_extension": ".py",
   "mimetype": "text/x-python",
   "name": "python",
   "nbconvert_exporter": "python",
   "pygments_lexer": "ipython3",
   "version": "3.13.2"
  }
 },
 "nbformat": 4,
 "nbformat_minor": 2
}
